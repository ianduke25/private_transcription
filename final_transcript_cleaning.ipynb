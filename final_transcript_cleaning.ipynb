{
 "cells": [
  {
   "cell_type": "code",
   "execution_count": 10,
   "metadata": {},
   "outputs": [],
   "source": [
    "import pandas as pd\n",
    "import numpy as np\n",
    "import os\n",
    "import re"
   ]
  },
  {
   "cell_type": "code",
   "execution_count": 11,
   "metadata": {},
   "outputs": [],
   "source": [
    "video_directory = '/Volumes/BackupDrive/all_unique_videos'\n",
    "transcript_directory = '/Users/ianduke/Desktop/ACLU/siskiyou/transcripts'"
   ]
  },
  {
   "cell_type": "markdown",
   "metadata": {},
   "source": [
    "# Define functions"
   ]
  },
  {
   "cell_type": "code",
   "execution_count": 12,
   "metadata": {},
   "outputs": [
    {
     "name": "stdout",
     "output_type": "stream",
     "text": [
      "[00:30:000 --> 00:34:340]  This is a test\n",
      "[00:34:340 --> 01:10:640]  transcript\n",
      "[00:00:000 --> 00:10:000]  This is a test transcript in another format\n",
      "[00:10:000 --> 00:17:000]  Blah blah blah\n"
     ]
    }
   ],
   "source": [
    "def convert_timestamps_to_uniform_format(transcript):\n",
    "    def format_timestamp(total_seconds):\n",
    "        minutes, seconds = divmod(total_seconds, 60)\n",
    "        return f\"{int(minutes):02}:{seconds:06.3f}\".replace('.', ':')\n",
    "\n",
    "    def parse_timestamp(timestamp_str):\n",
    "        parts = list(map(float, re.split(r'[:\\s]', timestamp_str)))\n",
    "        if len(parts) == 3:\n",
    "            total_seconds = parts[0] * 3600 + parts[1] * 60 + parts[2]\n",
    "        elif len(parts) == 2:\n",
    "            total_seconds = parts[0] * 60 + parts[1]\n",
    "        else:\n",
    "            total_seconds = parts[0]\n",
    "        return total_seconds\n",
    "\n",
    "    def process_line(line, next_line=\"\"):\n",
    "        if re.match(r\"\\[\\d+\\.\\d+ - \\d+\\.\\d+\\]\", line):\n",
    "            timestamps = re.findall(r\"[\\d.]+\", line)\n",
    "            start = format_timestamp(float(timestamps[0]))\n",
    "            end = format_timestamp(float(timestamps[1]))\n",
    "            return f\"[{start} --> {end}]{line[line.index(']')+1:]}\"\n",
    "        \n",
    "        elif re.match(r\"\\d{1,2}:\\d{2}:\\d{2}\\s*\\–\\s*\\d{1,2}:\\d{2}:\\d{2}\", next_line):\n",
    "            timestamps = re.findall(r\"\\d{1,2}:\\d{2}:\\d{2}\", next_line)\n",
    "            start = format_timestamp(parse_timestamp(timestamps[0]))\n",
    "            end = format_timestamp(parse_timestamp(timestamps[1]))\n",
    "            return f\"[{start} --> {end}]  {line.strip()}\"\n",
    "        \n",
    "        return line.strip()\n",
    "\n",
    "    formatted_transcript = []\n",
    "    lines = transcript.split('\\n')\n",
    "    skip_next_line = False\n",
    "\n",
    "    for i, line in enumerate(lines):\n",
    "        if skip_next_line:\n",
    "            skip_next_line = False\n",
    "            continue\n",
    "        \n",
    "        if i + 1 < len(lines) and re.match(r\"\\d{1,2}:\\d{2}:\\d{2}\\s*\\–\\s*\\d{1,2}:\\d{2}:\\d{2}\", lines[i + 1]):\n",
    "            formatted_transcript.append(process_line(line, lines[i + 1]))\n",
    "            skip_next_line = True\n",
    "        else:\n",
    "            formatted_transcript.append(process_line(line))\n",
    "    \n",
    "    # Remove empty lines and join the transcript\n",
    "    return '\\n'.join(line for line in formatted_transcript if line.strip())\n",
    "\n",
    "# Example usage:\n",
    "transcript = \"\"\"\n",
    "[30.00 - 34.34]  This is a test\n",
    "[34.34 - 70.64]  transcript\n",
    "\n",
    "This is a test transcript in another format\n",
    "0:00:00 – 0:00:10\n",
    "\n",
    "Blah blah blah\n",
    "0:00:10 – 0:00:17\n",
    "\"\"\"\n",
    "\n",
    "formatted_transcript = convert_timestamps_to_uniform_format(transcript)\n",
    "print(formatted_transcript)\n"
   ]
  },
  {
   "cell_type": "code",
   "execution_count": 13,
   "metadata": {},
   "outputs": [
    {
     "name": "stdout",
     "output_type": "stream",
     "text": [
      "[0:05:47 - 0:05:48]  This is line 1\n",
      "[0:05:48 - 0:05:49] This is line 2\n",
      "[0:05:49 - 0:05:50]  This is line 3\n",
      "[0:05:53 - 0:05:55]  This is line 4\n",
      "[0:05:55 - 0:05:57]  This is line 5\n",
      "\n"
     ]
    }
   ],
   "source": [
    "def remove_repetitions(transcript):\n",
    "    lines = transcript.split('\\n')\n",
    "    cleaned_lines = []\n",
    "    last_content = None\n",
    "    repeated_line_indices = []\n",
    "\n",
    "    for line in lines:\n",
    "        match = re.match(r'\\[(\\d+:\\d+:\\d+) - (\\d+:\\d+:\\d+)\\] (.*)', line)\n",
    "        if match:\n",
    "            content = match.group(3)\n",
    "\n",
    "            if content == last_content:\n",
    "                # We have repeated content\n",
    "                repeated_line_indices.append(len(cleaned_lines))\n",
    "            else:\n",
    "                # Before moving on, check if we need to remove repetitions\n",
    "                if len(repeated_line_indices) > 3:\n",
    "                    # Remove all but the first occurrence\n",
    "                    indices_to_remove = repeated_line_indices[1:]\n",
    "                    for idx in reversed(indices_to_remove):\n",
    "                        del cleaned_lines[idx]\n",
    "                # Reset repeated_line_indices for the new content\n",
    "                repeated_line_indices = []\n",
    "                last_content = content\n",
    "                # Start tracking the new content\n",
    "                repeated_line_indices.append(len(cleaned_lines))\n",
    "            # Append the current line\n",
    "            cleaned_lines.append(line)\n",
    "        else:\n",
    "            # Non-matching line\n",
    "            if len(repeated_line_indices) > 3:\n",
    "                indices_to_remove = repeated_line_indices[1:]\n",
    "                for idx in reversed(indices_to_remove):\n",
    "                    del cleaned_lines[idx]\n",
    "            # Reset tracking variables\n",
    "            repeated_line_indices = []\n",
    "            last_content = None\n",
    "            cleaned_lines.append(line)\n",
    "\n",
    "    # Handle any remaining repetitions at the end\n",
    "    if len(repeated_line_indices) > 3:\n",
    "        indices_to_remove = repeated_line_indices[1:]\n",
    "        for idx in reversed(indices_to_remove):\n",
    "            del cleaned_lines[idx]\n",
    "\n",
    "    return '\\n'.join(cleaned_lines)\n",
    "\n",
    "# Test transcript\n",
    "transcript = \"\"\"[0:05:47 - 0:05:48]  This is line 1\n",
    "[0:05:48 - 0:05:49] This is line 2\n",
    "[0:05:49 - 0:05:50]  This is line 3\n",
    "[0:05:50 - 0:05:51]  This is line 3\n",
    "[0:05:51 - 0:05:52]  This is line 3\n",
    "[0:05:52 - 0:05:53]  This is line 3\n",
    "[0:05:53 - 0:05:55]  This is line 4\n",
    "[0:05:55 - 0:05:57]  This is line 5\n",
    "\"\"\"\n",
    "\n",
    "print(remove_repetitions(transcript))\n"
   ]
  },
  {
   "cell_type": "markdown",
   "metadata": {},
   "source": [
    "# Apply functions to timestamp"
   ]
  },
  {
   "cell_type": "code",
   "execution_count": 14,
   "metadata": {},
   "outputs": [],
   "source": [
    "def process_text_files(directory):\n",
    "    for filename in os.listdir(directory):\n",
    "        if filename.endswith(\".txt\"):\n",
    "            file_path = os.path.join(directory, filename)\n",
    "            \n",
    "            # Read the contents of the file\n",
    "            with open(file_path, 'r', encoding='utf-8') as file:\n",
    "                file_contents = file.read()\n",
    "            \n",
    "            # Apply the functions to the file contents\n",
    "            #file_contents = convert_timestamps_to_uniform_format(file_contents) # Only run if timestamps are not already in HH:MM:SS format\n",
    "            file_contents = remove_repetitions(file_contents) \n",
    "            \n",
    "            # Resave the modified contents back to the original file\n",
    "            with open(file_path, 'w', encoding='utf-8') as file:\n",
    "                file.write(file_contents)"
   ]
  },
  {
   "cell_type": "code",
   "execution_count": 15,
   "metadata": {},
   "outputs": [],
   "source": [
    "process_text_files(transcript_directory)"
   ]
  },
  {
   "cell_type": "markdown",
   "metadata": {},
   "source": [
    "# Double check that all transcripts have been created"
   ]
  },
  {
   "cell_type": "code",
   "execution_count": 7,
   "metadata": {},
   "outputs": [
    {
     "name": "stdout",
     "output_type": "stream",
     "text": [
      "All video files have corresponding txt files.\n",
      "All txt files have corresponding video files.\n"
     ]
    }
   ],
   "source": [
    "def check_file_mismatches(video_dir, txt_dir):\n",
    "    # Get the list of video files without extensions\n",
    "    video_files = {os.path.splitext(f)[0] for f in os.listdir(video_dir) if os.path.isfile(os.path.join(video_dir, f))}\n",
    "    \n",
    "    # Get the list of txt files without extensions\n",
    "    txt_files = {os.path.splitext(f)[0] for f in os.listdir(txt_dir) if os.path.isfile(os.path.join(txt_dir, f))}\n",
    "    \n",
    "    # Find video files that do not have corresponding txt files\n",
    "    missing_txt_files = video_files - txt_files\n",
    "    \n",
    "    # Find txt files that do not have corresponding video files\n",
    "    missing_video_files = txt_files - video_files\n",
    "    \n",
    "    # Print results\n",
    "    if missing_txt_files:\n",
    "        print(\"Video files missing corresponding txt files:\")\n",
    "        for video in missing_txt_files:\n",
    "            print(f\"{video}\")\n",
    "    else:\n",
    "        print(\"All video files have corresponding txt files.\")\n",
    "    \n",
    "    if missing_video_files:\n",
    "        print(\"\\ntxt files missing corresponding video files:\")\n",
    "        for txt in missing_video_files:\n",
    "            print(f\"{txt}\")\n",
    "    else:\n",
    "        print(\"All txt files have corresponding video files.\")\n",
    "\n",
    "check_file_mismatches(video_directory, transcript_directory)\n"
   ]
  },
  {
   "cell_type": "markdown",
   "metadata": {},
   "source": [
    "# Count total files and corrupted files"
   ]
  },
  {
   "cell_type": "code",
   "execution_count": 8,
   "metadata": {},
   "outputs": [
    {
     "name": "stdout",
     "output_type": "stream",
     "text": [
      "Total number of txt files: 1\n",
      "Number of txt files containing 'FILE EMPTY OR DAMAGED': 0\n"
     ]
    }
   ],
   "source": [
    "import os\n",
    "\n",
    "def count_txt_files(directory):\n",
    "    total_txt_files = 0\n",
    "    empty_or_damaged_count = 0\n",
    "    search_text = 'FILE EMPTY OR DAMAGED'\n",
    "    \n",
    "    # Loop through all files in the directory\n",
    "    for filename in os.listdir(directory):\n",
    "        # Check if the file is a txt file\n",
    "        if filename.endswith('.txt'):\n",
    "            total_txt_files += 1\n",
    "            filepath = os.path.join(directory, filename)\n",
    "            \n",
    "            # Open the file and check for the search text\n",
    "            with open(filepath, 'r', encoding='utf-8') as file:\n",
    "                content = file.read()\n",
    "                if search_text in content:\n",
    "                    empty_or_damaged_count += 1\n",
    "    \n",
    "    return total_txt_files, empty_or_damaged_count\n",
    "\n",
    "\n",
    "total_files, empty_or_damaged = count_txt_files(transcript_directory)\n",
    "print(f\"Total number of txt files: {total_files}\")\n",
    "print(f\"Number of txt files containing 'FILE EMPTY OR DAMAGED': {empty_or_damaged}\")\n"
   ]
  },
  {
   "cell_type": "code",
   "execution_count": 9,
   "metadata": {},
   "outputs": [
    {
     "name": "stdout",
     "output_type": "stream",
     "text": [
      "Total number of files in the directory: 2\n"
     ]
    }
   ],
   "source": [
    "def count_all_files(directory):\n",
    "    total_files = 0\n",
    "    \n",
    "    # Loop through all items in the directory\n",
    "    for item in os.listdir(directory):\n",
    "        # Check if the item is a file\n",
    "        if os.path.isfile(os.path.join(directory, item)):\n",
    "            total_files += 1\n",
    "    \n",
    "    return total_files\n",
    "\n",
    "# Example usage\n",
    "total_files = count_all_files(transcript_directory)\n",
    "print(f\"Total number of files in the directory: {total_files}\")\n"
   ]
  }
 ],
 "metadata": {
  "kernelspec": {
   "display_name": "ACLU",
   "language": "python",
   "name": "python3"
  },
  "language_info": {
   "codemirror_mode": {
    "name": "ipython",
    "version": 3
   },
   "file_extension": ".py",
   "mimetype": "text/x-python",
   "name": "python",
   "nbconvert_exporter": "python",
   "pygments_lexer": "ipython3",
   "version": "3.9.18"
  }
 },
 "nbformat": 4,
 "nbformat_minor": 2
}
